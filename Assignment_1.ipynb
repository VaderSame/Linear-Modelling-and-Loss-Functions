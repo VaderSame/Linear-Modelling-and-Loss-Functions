{
 "cells": [
  {
   "cell_type": "markdown",
   "metadata": {},
   "source": [
    "# Grade: /100 points\n",
    "\n",
    "# Assignment 01: Supervised learning, Linear models, and Loss functions\n",
    "\n",
    "In this assignment, you're going to write your own methods to fit a linear model using either an OLS or LAD cost function.  \n",
    "\n",
    "## Data set \n",
    "\n",
    "For this assignment, we will examine some data representing possums in Australia and New Guinea. The data frame contains 46 observations on the following 6 variables:\n",
    "\n",
    "* sex: Sex, either m (male) or f (female).\n",
    "* age: Age in years.\n",
    "* headL: Head length, in mm.\n",
    "* skullW: Skull width, in mm.\n",
    "* totalL: Total length, in cm.\n",
    "* tailL: Tail length, in cm.\n",
    "\n",
    "## Follow These Steps Before Submitting\n",
    "\n",
    "You may need to install packages as follows:\n",
    "\n",
    "`python -m pip install matplotlib numpy scipy pandas scikit-learn`\n",
    "\n",
    "Once you are finished, ensure to complete the following steps.\n",
    "\n",
    "1.  Restart your kernel by clicking 'Kernel' > 'Restart & Run All'.\n",
    "\n",
    "2.  Fix any errors which result from this.\n",
    "\n",
    "3.  Repeat steps 1. and 2. until your notebook runs without errors.\n",
    "\n",
    "4.  Submit your completed notebook to OWL by the deadline.\n",
    "\n",
    "\n",
    "## Preliminaries"
   ]
  },
  {
   "cell_type": "code",
   "execution_count": 3,
   "metadata": {},
   "outputs": [],
   "source": [
    "# Import all the necessary packages: \n",
    "import matplotlib.pyplot as plt \n",
    "import numpy as np\n",
    "import pandas as pd\n",
    "import scipy.stats as ss \n",
    "from scipy.optimize import minimize \n",
    "from sklearn import linear_model\n",
    "from sklearn.linear_model import LinearRegression\n",
    "from sklearn.metrics import r2_score\n",
    "%matplotlib inline"
   ]
  },
  {
   "cell_type": "markdown",
   "metadata": {},
   "source": [
    "\n",
    "## Part 1\n",
    "### Question 1.1:  /10 points\n",
    "\n",
    "\n",
    "Read in the `possum.csv` file as a `pandas.DataFrame`.  Investigate the relationship between the possum's age and its tail length by plotting a scatter plot of the `age` and `tailL` columns. Add an `alpha`(transparency of the plotted dots) in case some data are overlapping. "
   ]
  },
  {
   "cell_type": "code",
   "execution_count": 4,
   "metadata": {},
   "outputs": [
    {
     "name": "stdout",
     "output_type": "stream",
     "text": [
      "possum data is read\n"
     ]
    },
    {
     "data": {
      "image/png": "[encoded data removed]",
      "text/plain": [
       "<Figure size 640x480 with 1 Axes>"
      ]
     },
     "metadata": {},
     "output_type": "display_data"
    }
   ],
   "source": [
    "# Read in the data with pandas\n",
    "possum_data = pd.read_csv(\"possum.csv\")\n",
    "print(\"possum data is read\")\n",
    "\n",
    "# Make the scatter plot (don't forget the axis labels)\n",
    "plt.scatter(possum_data['age'], possum_data['tailL'], alpha=0.9)\n",
    "plt.title('ScatterPlot of Possum Age vs Tail Length')\n",
    "plt.xlabel('Age')\n",
    "plt.ylabel('Tail Length (mm)')\n",
    "plt.grid(True)\n",
    "plt.show()"
   ]
  },
  {
   "cell_type": "markdown",
   "metadata": {},
   "source": [
    "### Question 1.2: /5 point\n",
    "\n",
    "Recall that the linear model, we obtain predictions by computing \n",
    "\n",
    "$$ \\hat{\\mathbf{y}} = \\mathbf{X} \\hat{\\beta} $$\n",
    "\n",
    "Here, $\\mathbf{X}$ is a design matrix which includes a column of ones, $\\hat{\\beta}$ are coefficients, and $\\hat{\\mathbf{y}}$ are outcomes.  Write a function `linearModelPredict` to compute linear model predictions given data and a coefficient vector.  The function should take as it's arguments a 1d-array of coefficients `b` and the design matrix `X` as a 2d-array and return linear model predictions `yp`.\n",
    "\n",
    "Test the function by setting \n",
    "\n",
    "```\n",
    "X = np.array([[1,0],[1,-1],[1,2]])\n",
    "b = np.array([0.1,0.3])\n",
    "```\n",
    "and call your function with these values! \n",
    "\n",
    "Report $\\hat{\\mathbf{y}}$. \n",
    "What is the dimensionality of the numpy-array that you get back? \n",
    "\n",
    "Hint:  Read the documentation for `np.dot` or the `@` operator in `numpy`."
   ]
  },
  {
   "cell_type": "code",
   "execution_count": 5,
   "metadata": {},
   "outputs": [
    {
     "data": {
      "text/plain": [
       "array([ 0.1, -0.2,  0.7])"
      ]
     },
     "execution_count": 5,
     "metadata": {},
     "output_type": "execute_result"
    }
   ],
   "source": [
    "def linearModelPredict(b,X):\n",
    "    yp = np.dot(b,X)\n",
    "    return yp\n",
    "\n",
    "# Always important: Test the new function you have written! \n",
    "X = np.array([[1,0],[1,-1],[1,2]])\n",
    "b = np.array([0.1,0.3])\n",
    "\n",
    "# By the way: What happens when b is a 2d-array? \n",
    "yp = linearModelPredict(X,b)\n",
    "\n",
    "yp"
   ]
  },
  {
   "cell_type": "markdown",
   "metadata": {},
   "source": [
    "### Question 1.3: /15 points\n",
    "\n",
    "Write a function `linearModelLossRSS` which computes and returns the loss function for an OLS model parameterized by $\\beta$, as well as the gradient of the loss.  The function should take as its first argument a 1d-array `beta` of coefficients for the linear model, as its second argument the design matrix `X` as a 2d-array, and as its third argument a 1d-array `y` of observed outcomes.\n",
    "\n",
    "Test the function with the values \n",
    "\n",
    "```\n",
    "X = np.array([[1,0],[1,-1],[1,2]])\n",
    "b = np.array([0.1,0.3])\n",
    "y = np.array([0,0.4,2]) \n",
    "```\n",
    "\n",
    "Report the loss and the gradient. \n",
    "\n",
    "**Written answer**: To minimize the cost do you need increase or decrease the value of the parameters? "
   ]
  },
  {
   "cell_type": "code",
   "execution_count": 6,
   "metadata": {},
   "outputs": [
    {
     "name": "stdout",
     "output_type": "stream",
     "text": [
      "Residual Sum of Squares (RSS): 2.06\n",
      "Gradient of the loss: [-3.6 -4. ]\n"
     ]
    }
   ],
   "source": [
    "def linearModelLossRSS(b,X,y):\n",
    "    # Compute the predicted values\n",
    "    y_pred = np.dot(X,b)\n",
    "    \n",
    "    # Compute the residuals \n",
    "    residuals = y - y_pred\n",
    "    \n",
    "    # Compute the Residuals Sum of Squares \n",
    "    residual_sum_of_squares  = np.sum (residuals**2)\n",
    "    \n",
    "    # Compute the gradient of the RSS with respect to the coefficients b\n",
    "    gradient = -2 * np.dot(X.T, residuals)\n",
    "    \n",
    "    return (residual_sum_of_squares, gradient)\n",
    "\n",
    "# Test the function with the given values\n",
    "X = np.array([[1, 0], [1, -1], [1, 2]])\n",
    "b = np.array([0.1, 0.3])\n",
    "y = np.array([0, 0.4, 2])\n",
    "\n",
    "# Call the function to compute the loss and gradient\n",
    "residual_sum_of_squares, gradient = linearModelLossRSS(b, X, y)\n",
    "\n",
    "# Output the RSS and gradient\n",
    "print(\"Residual Sum of Squares (RSS):\", residual_sum_of_squares)\n",
    "print(\"Gradient of the loss:\", gradient)"
   ]
  },
  {
   "cell_type": "markdown",
   "metadata": {},
   "source": [
    "To minimize the cost , we need to update the parameter values in the opposite direction of the gradient. In this case the gradient values are negetive for both the parameters , we should increase the values of parameters to move towards the minimum. \n",
    "\n",
    "The gradient suggests how to adjust the co-effiecnts beta to reducs the loss. If the gradient is negative for a parameter , increasing the parameter will reduce the loss."
   ]
  },
  {
   "cell_type": "markdown",
   "metadata": {},
   "source": [
    "### Question 1.4:  /15 points. \n",
    "\n",
    "Now that you've implemented a loss function in question 1.3, it is now time to minimize it!\n",
    "\n",
    "Write a function `linearModelFit` to fit a linear model.  The function should take as its first argument the design matrix `X` as a 2d-array, as its second argument a 1d-array `y` of outcomes, and as its third argument a function  `lossfcn` which returns as a tuple the value of the loss, as well as the gradient of the loss. As a result, it should return the estimated betas and the R2. \n",
    "\n",
    "Test the function with the values: \n",
    "```\n",
    "X = np.array([[1,0],[1,-1],[1,2]])\n",
    "y = np.array([0,0.4,2]) \n",
    "```\n",
    "\n",
    "Report best parameters and the fitted R2 \n"
   ]
  },
  {
   "cell_type": "code",
   "execution_count": 7,
   "metadata": {},
   "outputs": [
    {
     "ename": "NameError",
     "evalue": "name 'so' is not defined",
     "output_type": "error",
     "traceback": [
      "\u001b[1;31m---------------------------------------------------------------------------\u001b[0m",
      "\u001b[1;31mNameError\u001b[0m                                 Traceback (most recent call last)",
      "Cell \u001b[1;32mIn[7], line 26\u001b[0m\n\u001b[0;32m     23\u001b[0m y \u001b[38;5;241m=\u001b[39m np\u001b[38;5;241m.\u001b[39marray([\u001b[38;5;241m0\u001b[39m, \u001b[38;5;241m0.4\u001b[39m, \u001b[38;5;241m2\u001b[39m])\n\u001b[0;32m     25\u001b[0m \u001b[38;5;66;03m# Fit the model and get the estimated betas and R² value\u001b[39;00m\n\u001b[1;32m---> 26\u001b[0m estimated_betas, R2 \u001b[38;5;241m=\u001b[39m linearModelFit(X, y, linearModelLossRSS)\n\u001b[0;32m     28\u001b[0m \u001b[38;5;66;03m# Output the estimated betas and fitted R²\u001b[39;00m\n\u001b[0;32m     29\u001b[0m \u001b[38;5;28mprint\u001b[39m(\u001b[38;5;124m\"\u001b[39m\u001b[38;5;124mEstimated Betas:\u001b[39m\u001b[38;5;124m\"\u001b[39m, estimated_betas)\n",
      "Cell \u001b[1;32mIn[7], line 8\u001b[0m, in \u001b[0;36mlinearModelFit\u001b[1;34m(X, y, lossfcn)\u001b[0m\n\u001b[0;32m      5\u001b[0m bstart \u001b[38;5;241m=\u001b[39m [\u001b[38;5;241m0\u001b[39m, \u001b[38;5;241m0\u001b[39m]\n\u001b[0;32m      7\u001b[0m \u001b[38;5;66;03m# Use scipy's minimize function to optimize the loss function\u001b[39;00m\n\u001b[1;32m----> 8\u001b[0m RESULT \u001b[38;5;241m=\u001b[39m so\u001b[38;5;241m.\u001b[39mminimize(lossfcn, bstart, args\u001b[38;5;241m=\u001b[39m(X, y), jac\u001b[38;5;241m=\u001b[39m\u001b[38;5;28;01mTrue\u001b[39;00m)\n\u001b[0;32m      9\u001b[0m estimated_betas \u001b[38;5;241m=\u001b[39m RESULT\u001b[38;5;241m.\u001b[39mx  \u001b[38;5;66;03m# Extract the optimized betas\u001b[39;00m\n\u001b[0;32m     11\u001b[0m \u001b[38;5;66;03m# Compute the predicted values using the final betas\u001b[39;00m\n",
      "\u001b[1;31mNameError\u001b[0m: name 'so' is not defined"
     ]
    }
   ],
   "source": [
    "# Function to fit the model using gradient descent\n",
    "def linearModelFit(X, y, lossfcn=linearModelLossRSS):\n",
    "    \n",
    "    # Initial guess for the coefficients (betas)\n",
    "    bstart = [0, 0]\n",
    "    \n",
    "    # Use scipy's minimize function to optimize the loss function\n",
    "    RESULT = so.minimize(lossfcn, bstart, args=(X, y), jac=True)\n",
    "    estimated_betas = RESULT.x  # Extract the optimized betas\n",
    "    \n",
    "    # Compute the predicted values using the final betas\n",
    "    y_pred = np.dot(X, estimated_betas)\n",
    "    \n",
    "    # Calculate R² score\n",
    "    ss_res = np.sum((y - y_pred) ** 2)  # Residual sum of squares\n",
    "    ss_tot = np.sum((y - np.mean(y)) ** 2)  # Total sum of squares\n",
    "    R2 = 1 - (ss_res / ss_tot)  # R² formula\n",
    "    \n",
    "    return estimated_betas, R2\n",
    "\n",
    "# Test the function with the given values\n",
    "X = np.array([[1, 0], [1, -1], [1, 2]])\n",
    "y = np.array([0, 0.4, 2])\n",
    "\n",
    "# Fit the model and get the estimated betas and R² value\n",
    "estimated_betas, R2 = linearModelFit(X, y, linearModelLossRSS)\n",
    "\n",
    "# Output the estimated betas and fitted R²\n",
    "print(\"Estimated Betas:\", estimated_betas)\n",
    "print(\"Fitted R²:\", R2)"
   ]
  },
  {
   "cell_type": "markdown",
   "metadata": {},
   "source": [
    "### Question 1.5: /15 points\n",
    "\n",
    "Use the above functions to fit your model to the possum data. Then use your model and the fitted parameters to make predictions along a grid of equally spaced possum ages.  \n",
    "\n",
    "Plot the data and add a line for the predicted values. You can get these by generating a new X-matrix with equally spaced ages (using for example np.linspace). Also report the R2 value for the fit. You can do this by either printing out the R2 of the fit or putting it on your plot via the `annotate` function in matplotlib.\n"
   ]
  },
  {
   "cell_type": "code",
   "execution_count": 12,
   "metadata": {},
   "outputs": [
    {
     "data": {
      "image/png": "[encoded data removed]",
      "text/plain": [
       "<Figure size 640x480 with 1 Axes>"
      ]
     },
     "metadata": {},
     "output_type": "display_data"
    },
    {
     "name": "stdout",
     "output_type": "stream",
     "text": [
      "R²: 0.22\n"
     ]
    }
   ],
   "source": [
    "# Extract relevant columns (age and tail length)\n",
    "ages = possum_data['age'].values\n",
    "tail_lengths = possum_data['tailL'].values\n",
    "\n",
    "# Create the design matrix using np.c_ (adding a column of ones for the intercept)\n",
    "X = np.c_[np.ones(ages.shape[0]), ages]\n",
    "y = tail_lengths\n",
    "\n",
    "# Call your fitting function \n",
    "estimated_betas, R2 = linearModelFit(X, y, linearModelLossRSS)\n",
    "\n",
    "# Create the scatter plot (correcting the x-values to use 'ages')\n",
    "plt.scatter(ages, y, color='blue', label='Actual Data')\n",
    "\n",
    "# Create a new X matrix with equally spaced data\n",
    "ages_grid = np.linspace(ages.min(), ages.max(), 100)  # Equally spaced ages\n",
    "X_grid = np.c_[np.ones(ages_grid.shape), ages_grid]  # Design matrix for predictions\n",
    "\n",
    "# Generate predictions using the fitted model (estimated betas)\n",
    "y_pred = np.dot(X_grid, estimated_betas)\n",
    "\n",
    "# Plot the predicted values as a line\n",
    "plt.plot(ages_grid, y_pred, color='red', label=f'Predicted (R² = {R2:.2f})')\n",
    "\n",
    "# Add labels and title\n",
    "plt.xlabel('Possum Age')\n",
    "plt.ylabel('Tail Length')\n",
    "plt.title('Possum Age vs Tail Length with Fitted Line')\n",
    "plt.legend()\n",
    "\n",
    "# Optionally annotate the R² value on the plot\n",
    "plt.annotate(f'R² = {R2:.2f}', xy=(1.05, 0.6), xycoords='axes fraction', fontsize=12, color='red')\n",
    "\n",
    "# Show the plot\n",
    "plt.show()\n",
    "\n",
    "# Output the R² value\n",
    "print(f\"R²: {R2:.2f}\")\n"
   ]
  },
  {
   "cell_type": "markdown",
   "metadata": {},
   "source": [
    "## Part 2: LAD Regression\n",
    "\n",
    "### Question 2.1:  /15 points\n",
    "\n",
    "In the previous section, we worked with the squared loss.  Now, we'll implement a linear model with least absolute deviation loss.\n",
    "\n",
    "Write a function `linearModelLossLAD` which computes the least absolute deviation loss function for a linear model  parameterized by $\\beta$, as well as the gradient of the loss.  The function should take as its first argument a 1d-array `beta` of coefficients for the linear model, as its second argument the design matrix `X` as a 2d-array, and as its third argument a 1d-array `y` of observed outcomes.\n",
    "\n",
    "Test the function with the values \n",
    "\n",
    "```\n",
    "X = np.array([[1,0],[1,-1],[1,2]])\n",
    "b = np.array([0.1,0.3])\n",
    "y = np.array([0,0.4,2]) \n",
    "```\n",
    "\n",
    "Report the loss and the gradient. "
   ]
  },
  {
   "cell_type": "code",
   "execution_count": 14,
   "metadata": {},
   "outputs": [
    {
     "name": "stdout",
     "output_type": "stream",
     "text": [
      "LAD Loss: 2.0\n",
      "Gradient of the LAD Loss: [-1. -1.]\n"
     ]
    }
   ],
   "source": [
    "# Define the linearModelLossLAD function\n",
    "def linearModelLossLAD(beta, X, y):\n",
    "    # 1. Compute the predicted values (y_pred = X * beta)\n",
    "    y_pred = np.dot(X, beta)\n",
    "    \n",
    "    # 2. Compute the residuals (difference between actual and predicted values)\n",
    "    residuals = y - y_pred\n",
    "    \n",
    "    # 3. Compute the Least Absolute Deviations (LAD) loss\n",
    "    lad_loss = np.sum(np.abs(residuals))\n",
    "    \n",
    "    # 4. Compute the gradient of the LAD loss\n",
    "    gradient = -np.dot(X.T, np.sign(residuals))\n",
    "    \n",
    "    return lad_loss, gradient\n",
    "\n",
    "# Test the function with the given values\n",
    "X = np.array([[1, 0], [1, -1], [1, 2]])\n",
    "b = np.array([0.1, 0.3])\n",
    "y = np.array([0, 0.4, 2])\n",
    "\n",
    "# Call the function to compute the loss and gradient\n",
    "lad_loss, gradient = linearModelLossLAD(b, X, y)\n",
    "\n",
    "# Output the LAD loss and gradient\n",
    "print(\"LAD Loss:\", lad_loss)\n",
    "print(\"Gradient of the LAD Loss:\", gradient)\n"
   ]
  },
  {
   "cell_type": "markdown",
   "metadata": {},
   "source": [
    "### Question 2.2: /10 points\n",
    "\n",
    "\n",
    "Use the above functions to fit your LAD model. Use your model to make predictions along a grid of equally spaced possum ages.  Once fit, add the fitted line to the scatter plot as in question 1.5.  Also report the R2-value. \n",
    "\n",
    "**Written answer**: What is the difference in the fit obtained with an L1 as compared to the L2 cost function? Which one has a higher R2 value? Why?  \n",
    "\n",
    "Note: If you recieve an error from the optimizer, it may be because the loss function for the LAD model is not differentiable at its minimum.  This will lead to some gradient based optimizers to fail to converge.  If this happens to you then pass `method=\"Powell\"` to `scipy.optimize.minimize`.\n",
    "\n"
   ]
  },
  {
   "cell_type": "code",
   "execution_count": 25,
   "metadata": {},
   "outputs": [
    {
     "name": "stderr",
     "output_type": "stream",
     "text": [
      "C:\\Users\\semal\\AppData\\Local\\Temp\\ipykernel_27668\\4231036225.py:15: RuntimeWarning: Method Powell does not use gradient information (jac).\n",
      "  RESULT = minimize(linearModelLossLAD, bstart, args=(X, y), jac=True, method='Powell')\n"
     ]
    },
    {
     "data": {
      "image/png": "[encoded data removed]",
      "text/plain": [
       "<Figure size 640x480 with 1 Axes>"
      ]
     },
     "metadata": {},
     "output_type": "display_data"
    },
    {
     "name": "stdout",
     "output_type": "stream",
     "text": [
      "LAD R²: 0.09\n"
     ]
    }
   ],
   "source": [
    "# Extract relevant columns (age and tail length)\n",
    "ages = possum_data['age'].values\n",
    "tail_lengths = possum_data['tailL'].values\n",
    "\n",
    "# Create the design matrix using np.c_ (adding a column of ones for the intercept)\n",
    "X = np.c_[np.ones(ages.shape[0]), ages]\n",
    "y = tail_lengths\n",
    "\n",
    "# Define the LAD model fitting function (using Powell method to avoid non-differentiability issues)\n",
    "def linearModelFitLAD(X, y):\n",
    "    # Initial guess for the coefficients (betas)\n",
    "    bstart = [0, 0]\n",
    "    \n",
    "    # Use scipy's minimize function with the Powell method\n",
    "    RESULT = minimize(linearModelLossLAD, bstart, args=(X, y), jac=True, method='Powell')\n",
    "    estimated_betas = RESULT.x  # Extract the optimized betas\n",
    "    \n",
    "    # Compute the predicted values using the final betas\n",
    "    y_pred = np.dot(X, estimated_betas)\n",
    "    \n",
    "    # Calculate R² score\n",
    "    ss_res = np.sum((y - y_pred) ** 2)  # Residual sum of squares\n",
    "    ss_tot = np.sum((y - np.mean(y)) ** 2)  # Total sum of squares\n",
    "    R2 = 1 - (ss_res / ss_tot)  # R² formula\n",
    "    \n",
    "    return estimated_betas, R2\n",
    "\n",
    "# Fit the LAD model to the possum age and tail length data\n",
    "estimated_betas_lad, R2_lad = linearModelFitLAD(X, y)\n",
    "\n",
    "# Create a scatter plot for the actual data\n",
    "plt.scatter(ages, y, color='blue', label='Actual Data')\n",
    "\n",
    "# Create a new X matrix with equally spaced possum ages for predictions\n",
    "ages_grid = np.linspace(ages.min(), ages.max(), 100)  # Equally spaced ages\n",
    "X_grid = np.c_[np.ones(ages_grid.shape), ages_grid]  # Design matrix for predictions\n",
    "\n",
    "# Generate predictions using the LAD model\n",
    "y_pred_lad = np.dot(X_grid, estimated_betas_lad)\n",
    "\n",
    "# Plot the LAD predicted values as a line\n",
    "plt.plot(ages_grid, y_pred_lad, color='red', label=f'LAD Predicted (R² = {R2_lad:.2f})')\n",
    "\n",
    "# Add labels and title\n",
    "plt.xlabel('Possum Age')\n",
    "plt.ylabel('Tail Length')\n",
    "plt.title('LAD Model: Possum Age vs Tail Length with Fitted Line')\n",
    "plt.legend()\n",
    "\n",
    "# Optionally annotate the R² value on the plot\n",
    "plt.annotate(f'LAD R² = {R2_lad:.2f}', xy=(1.02, 0.9), xycoords='axes fraction', fontsize=12, color='red')\n",
    "\n",
    "# Show the plot\n",
    "plt.show()\n",
    "\n",
    "# Output the LAD R² value\n",
    "print(f\"LAD R²: {R2_lad:.2f}\")"
   ]
  },
  {
   "cell_type": "markdown",
   "metadata": {},
   "source": [
    "Written answer: The L1 (LAD) model is more robust to outliers becuase it minimizes the absolute deviations. While the L2(OLS) model minimizes the squared deviations which means it is more susceptible to large errors.\n",
    "\n",
    "R² vlaue for OLS model is typically higher than the LAD model , epspecially in the cases where data has a normal distribution and no major outliers. On the other hand if data does contain outliers , LAD model might give a better fit with a higher R^2 because it is not influenced by extreme values"
   ]
  },
  {
   "cell_type": "markdown",
   "metadata": {},
   "source": [
    "### Question 2.3: /15 points\n",
    "\n",
    "Fit an OLS model to the possum data with the `linear_model` module from the `sklearn` package by using the `LinearRegression` class.  In no more than two sentences, comment on the rsquared values from `sklearn` and the rsquared values from your models. Are they similar?"
   ]
  },
  {
   "cell_type": "code",
   "execution_count": 11,
   "metadata": {},
   "outputs": [
    {
     "name": "stdout",
     "output_type": "stream",
     "text": [
      "Sklearn OLS R²: 0.22\n"
     ]
    }
   ],
   "source": [
    "# Initialize and fit the OLS model using sklearn\n",
    "ols_model = LinearRegression()\n",
    "ols_model.fit(ages, tail_lengths)\n",
    "\n",
    "# Get the predicted values from the OLS model\n",
    "y_pred_ols = ols_model.predict(ages)\n",
    "\n",
    "# Calculate the R-squared value using sklearn\n",
    "R2_sklearn = r2_score(tail_lengths, y_pred_ols)\n",
    "\n",
    "# Output the R² value from sklearn\n",
    "print(f\"Sklearn OLS R²: {R2_sklearn:.2f}\")"
   ]
  },
  {
   "cell_type": "markdown",
   "metadata": {},
   "source": [
    "The R² values from `skearn` and the custom OLS model should be similar or almost identical because both minimize the same sum of squared residues (L2 normalization)"
   ]
  }
 ],
 "metadata": {
  "kernelspec": {
   "display_name": "Python 3",
   "language": "python",
   "name": "python3"
  },
  "language_info": {
   "codemirror_mode": {
    "name": "ipython",
    "version": 3
   },
   "file_extension": ".py",
   "mimetype": "text/x-python",
   "name": "python",
   "nbconvert_exporter": "python",
   "pygments_lexer": "ipython3",
   "version": "3.12.4"
  }
 },
 "nbformat": 4,
 "nbformat_minor": 4
}
